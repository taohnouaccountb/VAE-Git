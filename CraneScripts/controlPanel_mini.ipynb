{
 "cells": [
  {
   "cell_type": "code",
   "execution_count": 1,
   "metadata": {
    "scrolled": false
   },
   "outputs": [
    {
     "name": "stdout",
     "output_type": "stream",
     "text": [
      "PREFIX: 3_11_17_30_36\n"
     ]
    }
   ],
   "source": [
    "from controlLib import *"
   ]
  },
  {
   "cell_type": "code",
   "execution_count": 2,
   "metadata": {
    "scrolled": true
   },
   "outputs": [
    {
     "name": "stdout",
     "output_type": "stream",
     "text": [
      "Success\n",
      "JobID 12198666\n"
     ]
    }
   ],
   "source": [
    "launch_job(gpu=True)"
   ]
  },
  {
   "cell_type": "code",
   "execution_count": 4,
   "metadata": {
    "scrolled": true
   },
   "outputs": [
    {
     "name": "stdout",
     "output_type": "stream",
     "text": [
      "Docker image path: hcc-docker-registry.unl.edu/unlhcc/tensorflow-gpu:latest\n",
      "Cache folder set to /lustre/work/cse496dl/tyao/.singularity/docker\n",
      "Creating container runtime...\n",
      "\n",
      "CONV_LAYER_STRUCTURE [100, 200, 0, 200, 0, 100]\n",
      "DENSE_LAYER_STRUCTURE [0, 500, 0, 100]\n",
      "DENSE_LAYER_STRUCTURE [256]\n",
      "CONV_LAYER_STRUCTURE [0, 0, 0, 0]\n",
      "Variables in the graph: 4119580.0\n",
      "\n",
      "Epoch: 0\n",
      "\n",
      "TRAIN PSNR LOSS: -14.4932774907\n",
      "TEST PSNR LOSS: 14.9582719706\n",
      "\n",
      "Epoch: 1\n",
      "\n",
      "TRAIN PSNR LOSS: -15.0964717577\n",
      "TEST PSNR LOSS: 15.2109169256\n",
      "\n",
      "Epoch: 2\n",
      "\n",
      "TRAIN PSNR LOSS: -15.2829424298\n",
      "TEST PSNR LOSS: 15.3571023182\n",
      "\n",
      "Epoch: 3\n",
      "\n",
      "TRAIN PSNR LOSS: -15.4108181884\n",
      "TEST PSNR LOSS: 15.4538573735\n",
      "\n",
      "Epoch: 4\n",
      "\n",
      "TRAIN PSNR LOSS: -15.4885566759\n",
      "TEST PSNR LOSS: 15.5195462229\n",
      "\n",
      "Epoch: 5\n",
      "\n",
      "TRAIN PSNR LOSS: -15.5416577496\n",
      "TEST PSNR LOSS: 15.5805054917\n",
      "\n",
      "Epoch: 6\n",
      "\n",
      "===STOP RUNNING===\n",
      "2018-03-11 22:34:36.095294: I tensorflow/core/platform/cpu_feature_guard.cc:137] Your CPU supports instructions that this TensorFlow binary was not compiled to use: SSE4.1 SSE4.2 AVX AVX2 FMA\n",
      "2018-03-11 22:34:36.694474: I tensorflow/core/common_runtime/gpu/gpu_device.cc:1030] Found device 0 with properties: \n",
      "name: Tesla P100-PCIE-12GB major: 6 minor: 0 memoryClockRate(GHz): 1.3285\n",
      "pciBusID: 0000:03:00.0\n",
      "totalMemory: 11.91GiB freeMemory: 11.63GiB\n",
      "2018-03-11 22:34:36.694592: I tensorflow/core/common_runtime/gpu/gpu_device.cc:1120] Creating TensorFlow device (/device:GPU:0) -> (device: 0, name: Tesla P100-PCIE-12GB, pci bus id: 0000:03:00.0, compute capability: 6.0)\n",
      "slurmstepd: error: *** JOB 12198666 ON c4117 CANCELLED AT 2018-03-11T18:30:47 DUE TO TIME LIMIT ***\n",
      "\n"
     ]
    }
   ],
   "source": [
    "print_output()"
   ]
  },
  {
   "cell_type": "code",
   "execution_count": null,
   "metadata": {
    "collapsed": true
   },
   "outputs": [],
   "source": [
    "print_error()"
   ]
  },
  {
   "cell_type": "code",
   "execution_count": 3,
   "metadata": {
    "scrolled": true
   },
   "outputs": [
    {
     "name": "stdout",
     "output_type": "stream",
     "text": [
      "          12198666       gpu     DDF2     tyao  R       0:00      1 c4117\n",
      "\n"
     ]
    }
   ],
   "source": [
    "print_status()"
   ]
  },
  {
   "cell_type": "code",
   "execution_count": null,
   "metadata": {},
   "outputs": [],
   "source": [
    "cancel_job()"
   ]
  },
  {
   "cell_type": "code",
   "execution_count": null,
   "metadata": {
    "collapsed": true,
    "scrolled": true
   },
   "outputs": [],
   "source": [
    "print_models()"
   ]
  },
  {
   "cell_type": "code",
   "execution_count": null,
   "metadata": {
    "collapsed": true
   },
   "outputs": [],
   "source": []
  }
 ],
 "metadata": {
  "kernelspec": {
   "display_name": "Python 3",
   "language": "python",
   "name": "python3"
  },
  "language_info": {
   "codemirror_mode": {
    "name": "ipython",
    "version": 3
   },
   "file_extension": ".py",
   "mimetype": "text/x-python",
   "name": "python",
   "nbconvert_exporter": "python",
   "pygments_lexer": "ipython3",
   "version": "3.6.2"
  }
 },
 "nbformat": 4,
 "nbformat_minor": 2
}
